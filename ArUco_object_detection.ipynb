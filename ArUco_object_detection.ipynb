{
 "cells": [
  {
   "cell_type": "code",
   "execution_count": 2,
   "id": "61b99c17",
   "metadata": {},
   "outputs": [
    {
     "name": "stdout",
     "output_type": "stream",
     "text": [
      "Requirement already satisfied: opencv-contrib-python in c:\\programdata\\anaconda\\lib\\site-packages (4.9.0.80)\n",
      "Requirement already satisfied: numpy>=1.21.2 in c:\\programdata\\anaconda\\lib\\site-packages (from opencv-contrib-python) (1.24.3)\n",
      "Note: you may need to restart the kernel to use updated packages.\n"
     ]
    }
   ],
   "source": [
    "pip install opencv-contrib-python"
   ]
  },
  {
   "cell_type": "code",
   "execution_count": null,
   "id": "fb78fbe4",
   "metadata": {
    "scrolled": true
   },
   "outputs": [
    {
     "name": "stderr",
     "output_type": "stream",
     "text": [
      "C:\\Users\\SOUMAVA DAS\\AppData\\Local\\Temp\\ipykernel_14164\\3371924583.py:27: DeprecationWarning: `np.int0` is a deprecated alias for `np.intp`.  (Deprecated NumPy 1.24)\n",
      "  int_corners= np.int0(corners)\n"
     ]
    },
    {
     "name": "stdout",
     "output_type": "stream",
     "text": [
      "[[[[3851 1186]\n",
      "   [3847 1905]\n",
      "   [3118 1898]\n",
      "   [3117 1184]]]]\n"
     ]
    },
    {
     "name": "stderr",
     "output_type": "stream",
     "text": [
      "C:\\Users\\SOUMAVA DAS\\AppData\\Local\\Temp\\ipykernel_14164\\3371924583.py:60: DeprecationWarning: `np.int0` is a deprecated alias for `np.intp`.  (Deprecated NumPy 1.24)\n",
      "  box = np.int0(box)\n"
     ]
    }
   ],
   "source": [
    "import cv2\n",
    "import numpy as np\n",
    "from object_detector import *\n",
    "\n",
    "\n",
    "# Load Aruco detector\n",
    "# dictionary = cv2.aruco.getPredefinedDictionary(cv.aruco.DICT_4X4_250)\n",
    "# parameters =  cv2.aruco.DetectorParameters()\n",
    "# detector = cv2.aruco.ArucoDetector(dictionary, parameters)\n",
    "parameters = cv2.aruco.DetectorParameters()\n",
    "aruco_dict = cv2.aruco.getPredefinedDictionary(cv2.aruco.DICT_5X5_50)\n",
    "detector = cv2.aruco.ArucoDetector(aruco_dict, parameters)\n",
    "\n",
    "# Load Object Detector\n",
    "detector = HomogeneousBgDetector()\n",
    "\n",
    "#Load image\n",
    "img = cv2.imread(\"aruco_remote.jpeg\")\n",
    "\n",
    "\n",
    "corners, _, _ = cv2.aruco.detectMarkers(img, aruco_dict, parameters=parameters)\n",
    "\n",
    "\n",
    "# corners, _, _ = cv2.aruco.detectMarkers(img, aruco_dict, parameters=parameters)\n",
    "\n",
    "#draw polygon around marker\n",
    "int_corners= np.int0(corners)\n",
    "print(int_corners)\n",
    "cv2.polylines(img, int_corners, True, (0,255,0), 5)\n",
    "\n",
    "\n",
    "#Aruco perimeter\n",
    "aruco_perimeter = cv2.arcLength(int_corners[0], True)\n",
    "\n",
    "#Pixel to CM ratio\n",
    "pixel_cm_ratio = (aruco_perimeter)/20\n",
    "# print(pixel_cm_ratio)\n",
    "\n",
    "contours = detector.detect_objects(img)\n",
    "\n",
    "...\n",
    "\n",
    "\n",
    "\n",
    "#draw object boundaries\n",
    "for cnt in contours:\n",
    "    #draw polygon\n",
    "    cv2.polylines(img, [cnt], True, (255, 0, 0), 2)\n",
    "    \n",
    "    #get rectangle\n",
    "    rect = cv2.minAreaRect(cnt)\n",
    "    (x, y), (w, h), angle = rect\n",
    "    \n",
    "    #Get width and weight of the objects by applying ratio pixel cm\n",
    "    ob_width= w / pixel_cm_ratio\n",
    "    ob_height= h / pixel_cm_ratio\n",
    "    \n",
    "    \n",
    "    box = cv2.boxPoints(rect)\n",
    "    box = np.int0(box)\n",
    "    \n",
    "    \n",
    "    cv2.circle(img, (int(x), int(y)), 5, (0, 0, 255), -1)\n",
    "    cv2.polylines(img, [box], True, (255, 0, 0), 2)\n",
    "    cv2.putText(img, \"width {} cm\".format(round(ob_width, 1)), (int(x - 100), int(y - 15)), cv2.FONT_HERSHEY_PLAIN, 2, (100, 250, 50), 2)\n",
    "    cv2.putText(img, \"height {} cm\".format(round(ob_height, 1)), (int(x - 100), int(y + 15)), cv2.FONT_HERSHEY_PLAIN, 2, (100, 250, 50), 2)\n",
    "\n",
    "#     print(x, y)\n",
    "#     print(w, h)\n",
    "#     print(angle)\n",
    "#     print(box)\n",
    "\n",
    "cv2.namedWindow(\"Image\", cv2.WINDOW_NORMAL)  # Create a resizable window\n",
    "cv2.resizeWindow(\"Image\", 800, 600)  # Set the window size (width, height)\n",
    "\n",
    "cv2.imshow(\"Image\", img)\n",
    "\n",
    "cv2.imwrite(\"result_image.jpg\", img)\n",
    "\n",
    "cv2.waitKey(0)"
   ]
  },
  {
   "cell_type": "code",
   "execution_count": 14,
   "id": "77638fd9",
   "metadata": {},
   "outputs": [
    {
     "name": "stdout",
     "output_type": "stream",
     "text": [
      "1.3\n",
      "13.1\n"
     ]
    },
    {
     "data": {
      "text/plain": [
       "38.16793893129771"
      ]
     },
     "execution_count": 14,
     "metadata": {},
     "output_type": "execute_result"
    }
   ],
   "source": [
    "act_width=float(input())\n",
    "act_height=float(input())\n",
    "accuracy =  (round(ob_height) / act_height) * 100\n",
    "# accuracy /= 2\n",
    "accuracy"
   ]
  },
  {
   "cell_type": "code",
   "execution_count": 7,
   "id": "c012707d",
   "metadata": {},
   "outputs": [
    {
     "name": "stderr",
     "output_type": "stream",
     "text": [
      "C:\\Users\\SOUMAVA DAS\\AppData\\Local\\Temp\\ipykernel_32176\\4283417261.py:27: DeprecationWarning: `np.int0` is a deprecated alias for `np.intp`.  (Deprecated NumPy 1.24)\n",
      "  int_corners= np.int0(corners)\n"
     ]
    },
    {
     "name": "stdout",
     "output_type": "stream",
     "text": [
      "[[[[3851 1186]\n",
      "   [3847 1905]\n",
      "   [3118 1898]\n",
      "   [3117 1184]]]]\n"
     ]
    },
    {
     "name": "stderr",
     "output_type": "stream",
     "text": [
      "C:\\Users\\SOUMAVA DAS\\AppData\\Local\\Temp\\ipykernel_32176\\4283417261.py:60: DeprecationWarning: `np.int0` is a deprecated alias for `np.intp`.  (Deprecated NumPy 1.24)\n",
      "  box = np.int0(box)\n"
     ]
    },
    {
     "data": {
      "text/plain": [
       "-1"
      ]
     },
     "execution_count": 7,
     "metadata": {},
     "output_type": "execute_result"
    }
   ],
   "source": [
    "import cv2\n",
    "import numpy as np\n",
    "from object_detector import *\n",
    "\n",
    "\n",
    "# Load Aruco detector\n",
    "# dictionary = cv2.aruco.getPredefinedDictionary(cv.aruco.DICT_4X4_250)\n",
    "# parameters =  cv2.aruco.DetectorParameters()\n",
    "# detector = cv2.aruco.ArucoDetector(dictionary, parameters)\n",
    "parameters = cv2.aruco.DetectorParameters()\n",
    "aruco_dict = cv2.aruco.getPredefinedDictionary(cv2.aruco.DICT_5X5_50)\n",
    "detector = cv2.aruco.ArucoDetector(aruco_dict, parameters)\n",
    "\n",
    "# Load Object Detector\n",
    "detector = HomogeneousBgDetector()\n",
    "\n",
    "#Load image\n",
    "img = cv2.imread(\"aruco_remote.jpeg\")\n",
    "\n",
    "\n",
    "corners, _, _ = cv2.aruco.detectMarkers(img, aruco_dict, parameters=parameters)\n",
    "\n",
    "\n",
    "corners, _, _ = cv2.aruco.detectMarkers(img, aruco_dict, parameters=parameters)\n",
    "\n",
    "#draw polygon around marker\n",
    "int_corners= np.int0(corners)\n",
    "print(int_corners)\n",
    "cv2.polylines(img, int_corners, True, (0,255,0), 5)\n",
    "\n",
    "\n",
    "#Aruco perimeter\n",
    "aruco_perimeter = cv2.arcLength(int_corners[0], True)\n",
    "\n",
    "#Pixel to CM ratio\n",
    "pixel_cm_ratio = (aruco_perimeter+aruco_perimeter*0.085)/20\n",
    "# print(pixel_cm_ratio)\n",
    "\n",
    "contours = detector.detect_objects(img)\n",
    "\n",
    "...\n",
    "\n",
    "\n",
    "\n",
    "#draw object boundaries\n",
    "for cnt in contours:\n",
    "    #draw polygon\n",
    "    cv2.polylines(img, [cnt], True, (255, 0, 0), 2)\n",
    "    \n",
    "    #get rectangle\n",
    "    rect = cv2.minAreaRect(cnt)\n",
    "    (x, y), (w, h), angle = rect\n",
    "    \n",
    "    #Get width and weight of the objects by applying ratio pixel cm\n",
    "    ob_width= w / pixel_cm_ratio\n",
    "    ob_height= h / pixel_cm_ratio\n",
    "    \n",
    "    \n",
    "    box = cv2.boxPoints(rect)\n",
    "    box = np.int0(box)\n",
    "    \n",
    "    \n",
    "    cv2.circle(img, (int(x), int(y)), 5, (0, 0, 255), -1)\n",
    "    cv2.polylines(img, [box], True, (255, 0, 0), 2)\n",
    "    cv2.putText(img, \"width {} cm\".format(round(ob_width, 1)), (int(x - ob_height -500), int(y + ob_height + 300)), cv2.FONT_HERSHEY_PLAIN, 2, (100, 150, 50), 2)\n",
    "    cv2.putText(img, \"height {} cm\".format(round(ob_height, 1)), (int(x - ob_height -500), int(y + ob_height + 360)), cv2.FONT_HERSHEY_PLAIN, 2, (100, 150, 50), 2)\n",
    "\n",
    "#     print(x, y)\n",
    "#     print(w, h)\n",
    "#     print(angle)\n",
    "#     print(box)\n",
    "\n",
    "cv2.namedWindow(\"Image\", cv2.WINDOW_NORMAL)  # Create a resizable window\n",
    "cv2.resizeWindow(\"Image\", 800, 600)  # Set the window size (width, height)\n",
    "\n",
    "cv2.imshow(\"Image\", img)\n",
    "cv2.waitKey(0)"
   ]
  },
  {
   "cell_type": "code",
   "execution_count": 1,
   "id": "9048a33a",
   "metadata": {},
   "outputs": [
    {
     "name": "stdout",
     "output_type": "stream",
     "text": [
      "10\n"
     ]
    }
   ],
   "source": [
    "a= input()"
   ]
  },
  {
   "cell_type": "code",
   "execution_count": 2,
   "id": "993f45b7",
   "metadata": {},
   "outputs": [
    {
     "data": {
      "text/plain": [
       "'10'"
      ]
     },
     "execution_count": 2,
     "metadata": {},
     "output_type": "execute_result"
    }
   ],
   "source": [
    "a"
   ]
  },
  {
   "cell_type": "code",
   "execution_count": 2,
   "id": "defac32d",
   "metadata": {},
   "outputs": [
    {
     "name": "stdout",
     "output_type": "stream",
     "text": [
      "failed to capture\n"
     ]
    }
   ],
   "source": [
    "import cv2\n",
    "import numpy as np\n",
    "from object_detector import *\n",
    "\n",
    "\n",
    "# Load Aruco detector\n",
    "\n",
    "# dictionary = cv2.aruco.getPredefinedDictionary(cv.aruco.DICT_4X4_250)\n",
    "# parameters =  cv2.aruco.DetectorParameters()\n",
    "# detector = cv2.aruco.ArucoDetector(dictionary, parameters)\n",
    "\n",
    "parameters = cv2.aruco.DetectorParameters()\n",
    "aruco_dict = cv2.aruco.getPredefinedDictionary(cv2.aruco.DICT_5X5_50)\n",
    "detector = cv2.aruco.ArucoDetector(aruco_dict, parameters)\n",
    "\n",
    "# Load Object Detector\n",
    "detector = HomogeneousBgDetector()\n",
    "\n",
    "\n",
    "#Load Cap\n",
    "cap = cv2.VideoCapture(0)\n",
    "cap.set(cv2.CAP_PROP_FRAME_WIDTH, 1280)\n",
    "cap.set(cv2.CAP_PROP_FRAME_HEIGHT, 720)\n",
    "\n",
    "while True:\n",
    "    ret, img = cap.read()\n",
    "    if not ret:\n",
    "        print(\"failed to capture\")\n",
    "        break\n",
    "    if img is None:\n",
    "        print(\"Error: Empty frame\")\n",
    "        continue\n",
    "    corners, _, _ = cv2.aruco.detectMarkers(img, aruco_dict, parameters=parameters)\n",
    "    if corners is not None and len(corners) > 0:\n",
    "\n",
    "        \n",
    "\n",
    "#         corners, _, _ = detector.detectMarkers(img, aruco_dict, parameters=parameters)\n",
    "\n",
    "        #draw polygon around marker\n",
    "        int_corners= np.int0(corners)\n",
    "#         print(int_corners)\n",
    "        cv2.polylines(img, int_corners, True, (0,255,0), 5)\n",
    "\n",
    "\n",
    "        #Aruco perimeter\n",
    "        aruco_perimeter = cv2.arcLength(int_corners[0], True)\n",
    "\n",
    "        #Pixel to CM ratio\n",
    "        pixel_cm_ratio = aruco_perimeter/20\n",
    "        # print(pixel_cm_ratio)\n",
    "\n",
    "        contours = detector.detect_objects(img)\n",
    "\n",
    "        ...\n",
    "\n",
    "\n",
    "\n",
    "        #draw object boundaries\n",
    "        for cnt in contours:\n",
    "#             #draw polygon\n",
    "#             cv2.polylines(img, [cnt], True, (255, 0, 0), 2)\n",
    "\n",
    "            #get rectangle\n",
    "            rect = cv2.minAreaRect(cnt)\n",
    "            (x, y), (w, h), angle = rect\n",
    "\n",
    "            #Get width and weight of the objects by applying ratio pixel cm\n",
    "            ob_width= w / pixel_cm_ratio\n",
    "            ob_height= h / pixel_cm_ratio\n",
    "\n",
    "\n",
    "            box = cv2.boxPoints(rect)\n",
    "            box = np.int0(box)\n",
    "\n",
    "\n",
    "            cv2.circle(img, (int(x), int(y)), 5, (0, 0, 255), -1)\n",
    "            cv2.polylines(img, [box], True, (255, 0, 0), 2)\n",
    "            cv2.putText(img, \"width {} cm\".format(round(ob_width, 1)), (int(x - 100), int(y - 15)), cv2.FONT_HERSHEY_PLAIN, 2, (100, 150, 50), 2)\n",
    "            cv2.putText(img, \"height {} cm\".format(round(ob_height, 1)), (int(x - 100), int(y + 15)), cv2.FONT_HERSHEY_PLAIN, 2, (100, 150, 50), 2)\n",
    "\n",
    "        #     print(x, y)\n",
    "        #     print(w, h)\n",
    "        #     print(angle)\n",
    "#             print(box)\n",
    "\n",
    "\n",
    "        cv2.imshow(\"Image\", img)\n",
    "        key = cv2.waitKey(1)\n",
    "        if key == 27:\n",
    "            break\n",
    "\n",
    "    cap.release()\n",
    "    cv2.destroyAllWindows()"
   ]
  },
  {
   "cell_type": "code",
   "execution_count": null,
   "id": "cbeaa74b",
   "metadata": {},
   "outputs": [],
   "source": []
  }
 ],
 "metadata": {
  "kernelspec": {
   "display_name": "Python 3 (ipykernel)",
   "language": "python",
   "name": "python3"
  },
  "language_info": {
   "codemirror_mode": {
    "name": "ipython",
    "version": 3
   },
   "file_extension": ".py",
   "mimetype": "text/x-python",
   "name": "python",
   "nbconvert_exporter": "python",
   "pygments_lexer": "ipython3",
   "version": "3.11.5"
  }
 },
 "nbformat": 4,
 "nbformat_minor": 5
}
